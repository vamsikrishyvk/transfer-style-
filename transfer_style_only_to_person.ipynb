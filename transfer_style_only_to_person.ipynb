{
  "nbformat": 4,
  "nbformat_minor": 0,
  "metadata": {
    "colab": {
      "provenance": []
    },
    "kernelspec": {
      "name": "python3",
      "display_name": "Python 3"
    },
    "language_info": {
      "name": "python"
    }
  },
  "cells": [
    {
      "cell_type": "code",
      "execution_count": 2,
      "metadata": {
        "id": "KC7LaB5PaJwP"
      },
      "outputs": [],
      "source": [
        "import cv2 \n",
        "import numpy as np"
      ]
    },
    {
      "cell_type": "code",
      "source": [
        "def load_image(img_path, target_shape=None):\n",
        "\n",
        "    img = cv2.imread(img_path)[:, :, ::-1]  # [:, :, ::-1] converts BGR (opencv format...) into RGB\n",
        "\n",
        "    if target_shape is not None:  # resize section\n",
        "        if isinstance(target_shape, int) and target_shape != -1:  # scalar -> implicitly setting the width\n",
        "            current_height, current_width = img.shape[:2]\n",
        "            new_width = target_shape\n",
        "            new_height = int(current_height * (new_width / current_width))\n",
        "            img = cv2.resize(img, (new_width, new_height), interpolation=cv2.INTER_CUBIC)\n",
        "        else:  # set both dimensions to target shape\n",
        "            img = cv2.resize(img, (target_shape[1], target_shape[0]), interpolation=cv2.INTER_CUBIC)\n",
        "\n",
        "    # this need to go after resizing - otherwise cv.resize will push values outside of [0,1] range\n",
        "    img = img.astype(np.float32)  # convert from uint8 to float32\n",
        "    img /= 255.0  # get to [0, 1] range\n",
        "    return img"
      ],
      "metadata": {
        "id": "ttUbcXZCabxE"
      },
      "execution_count": 9,
      "outputs": []
    },
    {
      "cell_type": "code",
      "source": [
        "# Mask obtained from using segformer\n",
        "m_img_1 =  load_image('/content/semseg1.jpeg', target_shape=s_img.shape[:2])"
      ],
      "metadata": {
        "id": "fcUClOoyao9t"
      },
      "execution_count": 22,
      "outputs": []
    },
    {
      "cell_type": "code",
      "source": [
        "s_img =  load_image('/content/out.jpeg')\n",
        "m_img =  load_image('/content/segr.jpeg', target_shape=s_img.shape[:2])\n",
        "o_img =  load_image('/content/elon_musk_portrait.jpeg', target_shape=s_img.shape[:2])\n"
      ],
      "metadata": {
        "id": "C0-nHEVAab0I"
      },
      "execution_count": 10,
      "outputs": []
    },
    {
      "cell_type": "code",
      "source": [
        "# prepare canvas imagery\n",
        "combined_img_background = s_img.copy()\n",
        "combined_img_person = s_img.copy()\n",
        "\n",
        "# create masks\n",
        "background_mask = m_img == 0.\n",
        "person_mask = m_img == 1.\n",
        "\n",
        "# apply masks\n",
        "combined_img_background[background_mask] = o_img[background_mask]\n",
        "combined_img_person[person_mask] = o_img[person_mask]\n",
        "\n"
      ],
      "metadata": {
        "id": "hbja8q77bGh7"
      },
      "execution_count": 11,
      "outputs": []
    },
    {
      "cell_type": "code",
      "source": [
        "combined_img_background"
      ],
      "metadata": {
        "colab": {
          "base_uri": "https://localhost:8080/"
        },
        "id": "eVIHo17yccqz",
        "outputId": "c86737c1-396d-4231-fee0-58bdbe5a7b33"
      },
      "execution_count": 20,
      "outputs": [
        {
          "output_type": "execute_result",
          "data": {
            "text/plain": [
              "array([[[0.7411765 , 0.74509805, 0.7254902 ],\n",
              "        [0.7411765 , 0.74509805, 0.7254902 ],\n",
              "        [0.7411765 , 0.74509805, 0.7254902 ],\n",
              "        ...,\n",
              "        [0.7137255 , 0.7176471 , 0.69411767],\n",
              "        [0.7137255 , 0.7176471 , 0.69411767],\n",
              "        [0.70980394, 0.7137255 , 0.6901961 ]],\n",
              "\n",
              "       [[0.7411765 , 0.74509805, 0.7254902 ],\n",
              "        [0.7411765 , 0.74509805, 0.7254902 ],\n",
              "        [0.7411765 , 0.74509805, 0.7254902 ],\n",
              "        ...,\n",
              "        [0.7137255 , 0.7176471 , 0.69411767],\n",
              "        [0.7137255 , 0.7176471 , 0.69411767],\n",
              "        [0.70980394, 0.7137255 , 0.6901961 ]],\n",
              "\n",
              "       [[0.7411765 , 0.74509805, 0.7254902 ],\n",
              "        [0.7411765 , 0.74509805, 0.7254902 ],\n",
              "        [0.7411765 , 0.74509805, 0.7254902 ],\n",
              "        ...,\n",
              "        [0.70980394, 0.7137255 , 0.6901961 ],\n",
              "        [0.7137255 , 0.7176471 , 0.69411767],\n",
              "        [0.70980394, 0.7137255 , 0.6901961 ]],\n",
              "\n",
              "       ...,\n",
              "\n",
              "       [[0.07843138, 0.07843138, 0.10980392],\n",
              "        [0.07843138, 0.07843138, 0.10980392],\n",
              "        [0.08235294, 0.08235294, 0.11372549],\n",
              "        ...,\n",
              "        [0.14509805, 0.15686275, 0.23137255],\n",
              "        [0.14117648, 0.15294118, 0.22745098],\n",
              "        [0.13333334, 0.14509805, 0.21960784]],\n",
              "\n",
              "       [[0.09019608, 0.09019608, 0.12156863],\n",
              "        [0.07843138, 0.07843138, 0.10980392],\n",
              "        [0.07450981, 0.07450981, 0.10588235],\n",
              "        ...,\n",
              "        [0.13725491, 0.14901961, 0.22352941],\n",
              "        [0.12941177, 0.14117648, 0.21568628],\n",
              "        [0.12941177, 0.14117648, 0.21568628]],\n",
              "\n",
              "       [[0.07450981, 0.07450981, 0.10588235],\n",
              "        [0.07843138, 0.07843138, 0.10980392],\n",
              "        [0.07843138, 0.07843138, 0.10980392],\n",
              "        ...,\n",
              "        [0.12941177, 0.14117648, 0.20784314],\n",
              "        [0.12156863, 0.13333334, 0.2       ],\n",
              "        [0.12941177, 0.14117648, 0.20784314]]], dtype=float32)"
            ]
          },
          "metadata": {},
          "execution_count": 20
        }
      ]
    },
    {
      "cell_type": "code",
      "source": [
        "\n",
        "cv2.imwrite(\"./cib.jpeg\", (combined_img_background * 255).astype(np.uint8)[:, :, ::-1])\n",
        "cv2.imwrite(\"cip.jpeg\", (combined_img_person * 255).astype(np.uint8)[:, :, ::-1])\n"
      ],
      "metadata": {
        "colab": {
          "base_uri": "https://localhost:8080/"
        },
        "id": "_PR3qhV_bY1R",
        "outputId": "7951996a-5a54-4f7c-e675-efc3d0ae4ef0"
      },
      "execution_count": 21,
      "outputs": [
        {
          "output_type": "execute_result",
          "data": {
            "text/plain": [
              "True"
            ]
          },
          "metadata": {},
          "execution_count": 21
        }
      ]
    },
    {
      "cell_type": "code",
      "source": [
        "# prepare canvas imagery\n",
        "combined_img_background = s_img.copy()\n",
        "combined_img_person = s_img.copy()\n",
        "\n",
        "# create masks\n",
        "background_mask = m_img_1 == 0.\n",
        "person_mask = m_img_1 == 1.\n",
        "\n",
        "# apply masks\n",
        "combined_img_background[background_mask] = o_img[background_mask]\n",
        "combined_img_person[person_mask] = o_img[person_mask]\n",
        "\n"
      ],
      "metadata": {
        "id": "pwTsAsgAbY9I"
      },
      "execution_count": 23,
      "outputs": []
    },
    {
      "cell_type": "code",
      "source": [
        "cv2.imwrite(\"./cib1.jpeg\", (combined_img_background * 255).astype(np.uint8)[:, :, ::-1])\n",
        "cv2.imwrite(\"cip1.jpeg\", (combined_img_person * 255).astype(np.uint8)[:, :, ::-1])\n"
      ],
      "metadata": {
        "colab": {
          "base_uri": "https://localhost:8080/"
        },
        "id": "osWT5_qzd2ox",
        "outputId": "f3673818-46f4-4b6f-f0e1-71154905f692"
      },
      "execution_count": 24,
      "outputs": [
        {
          "output_type": "execute_result",
          "data": {
            "text/plain": [
              "True"
            ]
          },
          "metadata": {},
          "execution_count": 24
        }
      ]
    },
    {
      "cell_type": "code",
      "source": [],
      "metadata": {
        "id": "eNeh5DLKd8f9"
      },
      "execution_count": null,
      "outputs": []
    }
  ]
}